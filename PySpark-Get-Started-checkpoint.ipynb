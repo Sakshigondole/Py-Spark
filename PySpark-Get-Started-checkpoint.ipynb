{
 "cells": [
  {
   "cell_type": "code",
   "execution_count": 7,
   "id": "7e346837-fbaf-404b-9b87-f99c7dabcfaf",
   "metadata": {},
   "outputs": [],
   "source": [
    "#set the PySpark enviroment variables\n",
    "import os\n",
    "os.environ['SPARK_HOME'] = \"C:\\\\Users\\\\91917\\\\Spark\"\n",
    "os.environ['PYSPARK_DRIVER_PYTHON']='jupyter'\n",
    "os.environ['PYSPARK_DRIVER_PYTHON_OPTS']='lab'\n",
    "os.environ['PYSPARK_PYTHON']='python'"
   ]
  },
  {
   "cell_type": "code",
   "execution_count": 10,
   "id": "2d8710c5-f8d8-46b5-a048-50f8dbb2ab37",
   "metadata": {},
   "outputs": [],
   "source": [
    "#import PySpark\n",
    "from pyspark.sql import SparkSession"
   ]
  },
  {
   "cell_type": "code",
   "execution_count": 12,
   "id": "f6e94d90-f2c0-4d05-9582-7347c4c288b5",
   "metadata": {},
   "outputs": [],
   "source": [
    "#Create a SparkSession\n",
    "spark = SparkSession.builder \\\n",
    "    .appName(\"PySpark-Get-Started\") \\\n",
    "    .getOrCreate()"
   ]
  },
  {
   "cell_type": "code",
   "execution_count": 14,
   "id": "8157be73-b341-487b-bcc0-b0a9e1cc4862",
   "metadata": {},
   "outputs": [
    {
     "name": "stdout",
     "output_type": "stream",
     "text": [
      "+-------+---+\n",
      "|   Name|Age|\n",
      "+-------+---+\n",
      "|  Alice| 25|\n",
      "|    Bob| 30|\n",
      "|Charlie| 35|\n",
      "+-------+---+\n",
      "\n"
     ]
    }
   ],
   "source": [
    "#Test the setup\n",
    "data = [(\"Alice\", 25),(\"Bob\",30),(\"Charlie\",35)]\n",
    "df = spark.createDataFrame(data, [\"Name\",\"Age\"])\n",
    "df.show()"
   ]
  },
  {
   "cell_type": "code",
   "execution_count": null,
   "id": "25275de7-cc1b-4fcd-a381-47b8b5b8b686",
   "metadata": {},
   "outputs": [],
   "source": [
    "#Sucessfully installed and set up pysaprk with JupyterLab on macOS"
   ]
  }
 ],
 "metadata": {
  "kernelspec": {
   "display_name": "Python 3 (ipykernel)",
   "language": "python",
   "name": "python3"
  },
  "language_info": {
   "codemirror_mode": {
    "name": "ipython",
    "version": 3
   },
   "file_extension": ".py",
   "mimetype": "text/x-python",
   "name": "python",
   "nbconvert_exporter": "python",
   "pygments_lexer": "ipython3",
   "version": "3.10.8"
  }
 },
 "nbformat": 4,
 "nbformat_minor": 5
}
