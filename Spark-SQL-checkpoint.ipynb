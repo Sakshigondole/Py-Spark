{
 "cells": [
  {
   "cell_type": "code",
   "execution_count": 1,
   "id": "fda91d16-9b2e-427c-a51d-20715216676d",
   "metadata": {},
   "outputs": [],
   "source": [
    "#Set the PySpark environment variables\n",
    "import os\n",
    "os.environ['SPARK_HOME'] = \"C:\\\\Users\\\\91917\\\\Spark\"\n",
    "os.environ['PYSPARK_DRIVER_PYTHON'] = 'jupyter'\n",
    "os.environ['PYSPARK_DRIVER_PYTHON_OPTS'] = 'lab'\n",
    "os.environ['PYSPARK_PYTHON'] = 'python'\n",
    "\n"
   ]
  },
  {
   "cell_type": "code",
   "execution_count": null,
   "id": "25ab8dc9-6834-42fa-93e6-157d986f627a",
   "metadata": {},
   "outputs": [],
   "source": [
    "from pyspark.sql import SparkSession\n",
    "\n",
    "#Create a SparkSession\n",
    "spark = SparkSession.builder.appName(\"DataFrameSQL\").getOrCreate()"
   ]
  },
  {
   "cell_type": "code",
   "execution_count": null,
   "id": "cad9b436-6976-40fc-ba90-932121f034d8",
   "metadata": {},
   "outputs": [],
   "source": []
  }
 ],
 "metadata": {
  "kernelspec": {
   "display_name": "Python 3 (ipykernel)",
   "language": "python",
   "name": "python3"
  },
  "language_info": {
   "codemirror_mode": {
    "name": "ipython",
    "version": 3
   },
   "file_extension": ".py",
   "mimetype": "text/x-python",
   "name": "python",
   "nbconvert_exporter": "python",
   "pygments_lexer": "ipython3",
   "version": "3.10.8"
  }
 },
 "nbformat": 4,
 "nbformat_minor": 5
}
